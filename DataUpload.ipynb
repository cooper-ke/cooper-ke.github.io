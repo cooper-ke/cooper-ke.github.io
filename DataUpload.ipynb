{
 "cells": [
  {
   "cell_type": "code",
   "execution_count": 1,
   "id": "e9227fe8",
   "metadata": {},
   "outputs": [],
   "source": [
    "import pandas as pd\n",
    "import mysql.connector\n",
    "from mysql.connector import Error\n",
    "\n",
    "\n",
    "host = '127.0.0.1'\n",
    "user = 'Felipe'\n",
    "password = 'JUULisCUUL420!'  \n",
    "database = 'SchoolDB'\n",
    "\n",
    "\n",
    "csv_file_path = '/Users/felipequiroz/Desktop/DS5110/DataProject/responses.csv'\n"
   ]
  },
  {
   "cell_type": "code",
   "execution_count": 2,
   "id": "ee3ca383",
   "metadata": {},
   "outputs": [
    {
     "name": "stdout",
     "output_type": "stream",
     "text": [
      "Connected to MySQL database\n",
      "CSV file loaded successfully\n",
      "All data inserted successfully into the database\n",
      "MySQL connection closed\n"
     ]
    }
   ],
   "source": [
    "try:\n",
    "    connection = mysql.connector.connect(\n",
    "        host=host,\n",
    "        user=user,\n",
    "        password=password,\n",
    "        database=database\n",
    "    )\n",
    "    if connection.is_connected():\n",
    "        print(\"Connected to MySQL database\")\n",
    "        cursor = connection.cursor()\n",
    "        df = pd.read_csv(csv_file_path)\n",
    "        print(\"CSV file loaded successfully\")\n",
    "        df = df.where(pd.notnull(df), None)\n",
    "        for _, row in df.iterrows():\n",
    "            cursor.execute(\"\"\"\n",
    "                INSERT INTO Students (student_id, name, email)\n",
    "                VALUES (%s, %s, %s)\n",
    "                ON DUPLICATE KEY UPDATE name=VALUES(name), email=VALUES(email)\n",
    "            \"\"\", (row['student_id'], row['name'], row['email']))\n",
    "        for _, row in df.iterrows():\n",
    "            cursor.execute(\"\"\"\n",
    "                INSERT INTO Classes (class_id, class_name, credits, department)\n",
    "                VALUES (%s, %s, %s, %s)\n",
    "                ON DUPLICATE KEY UPDATE class_name=VALUES(class_name), credits=VALUES(credits), department=VALUES(department)\n",
    "            \"\"\", (row['class_id'], row['class_name'], row['credits'], row['department']))\n",
    "        for _, row in df.iterrows():\n",
    "            cursor.execute(\"\"\"\n",
    "                INSERT INTO Student_Classes (student_id, class_id, can_tutor, tutoring_availability)\n",
    "                VALUES (%s, %s, %s, %s)\n",
    "            \"\"\", (\n",
    "                row['student_id'], row['class_id'],\n",
    "                row['can_tutor'] == \"Yes\", \n",
    "                row['tutoring_availability']\n",
    "            ))\n",
    "        for _, row in df.iterrows():\n",
    "            if not pd.isnull(row['note_id']): \n",
    "                cursor.execute(\"\"\"\n",
    "                    INSERT INTO Course_Notes (note_id, class_id, note_title, content)\n",
    "                    VALUES (%s, %s, %s, %s)\n",
    "                \"\"\", (row['note_id'], row['class_id'], row['note_title'], row['content']))\\\n",
    "        for _, row in df.iterrows():\n",
    "            if not pd.isnull(row['notebook_id']):  \n",
    "                cursor.execute(\"\"\"\n",
    "                    INSERT INTO Notebooks (notebook_id, class_id, title, file)\n",
    "                    VALUES (%s, %s, %s, %s)\n",
    "                \"\"\", (row['notebook_id'], row['class_id'], row['title'], row['file']))\n",
    "        connection.commit()\n",
    "        print(\"All data inserted successfully into the database\")\n",
    "\n",
    "except Error as e:\n",
    "    print(f\"Error: {e}\")\n",
    "\n",
    "finally:\n",
    "    if 'connection' in locals() and connection.is_connected():\n",
    "        cursor.close()\n",
    "        connection.close()\n",
    "        print(\"MySQL connection closed\")"
   ]
  },
  {
   "cell_type": "code",
   "execution_count": null,
   "id": "c9c39a50",
   "metadata": {},
   "outputs": [],
   "source": []
  },
  {
   "cell_type": "code",
   "execution_count": null,
   "id": "98c24bc8",
   "metadata": {},
   "outputs": [],
   "source": []
  }
 ],
 "metadata": {
  "kernelspec": {
   "display_name": "Python 3 (ipykernel)",
   "language": "python",
   "name": "python3"
  },
  "language_info": {
   "codemirror_mode": {
    "name": "ipython",
    "version": 3
   },
   "file_extension": ".py",
   "mimetype": "text/x-python",
   "name": "python",
   "nbconvert_exporter": "python",
   "pygments_lexer": "ipython3",
   "version": "3.11.4"
  }
 },
 "nbformat": 4,
 "nbformat_minor": 5
}
